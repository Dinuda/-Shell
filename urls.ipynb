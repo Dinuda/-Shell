{
  "nbformat": 4,
  "nbformat_minor": 0,
  "metadata": {
    "colab": {
      "provenance": [],
      "gpuType": "V28",
      "authorship_tag": "ABX9TyPceuW+rBnGXuPR+LtfNo4q",
      "include_colab_link": true
    },
    "kernelspec": {
      "name": "python3",
      "display_name": "Python 3"
    },
    "language_info": {
      "name": "python"
    },
    "accelerator": "TPU"
  },
  "cells": [
    {
      "cell_type": "markdown",
      "metadata": {
        "id": "view-in-github",
        "colab_type": "text"
      },
      "source": [
        "<a href=\"https://colab.research.google.com/github/Dinuda/-Shell/blob/main/urls.ipynb\" target=\"_parent\"><img src=\"https://colab.research.google.com/assets/colab-badge.svg\" alt=\"Open In Colab\"/></a>"
      ]
    },
    {
      "cell_type": "markdown",
      "source": [
        "## Imports"
      ],
      "metadata": {
        "id": "kWk9BtUOLebi"
      }
    },
    {
      "cell_type": "code",
      "execution_count": 7,
      "metadata": {
        "id": "9uH0HFVlJqbC"
      },
      "outputs": [],
      "source": [
        "import os\n",
        "import pandas as pd\n",
        "import numpy as np\n",
        "import random\n",
        "from copy import deepcopy\n",
        "from itertools import chain"
      ]
    },
    {
      "cell_type": "markdown",
      "source": [
        "## Utils\n",
        "\n"
      ],
      "metadata": {
        "id": "_zzrSQbyLjgJ"
      }
    },
    {
      "cell_type": "code",
      "source": [
        "import requests\n",
        "\n",
        "api_base = 'https://en.wikipedia.org/w/api.php'\n",
        "\n",
        "def get_category_members(title, cmcontinue):\n",
        "  params = {\n",
        "      \"action\": \"query\",\n",
        "      \"format\": \"json\",\n",
        "      \"list\": \"categorymembers\",\n",
        "      \"cmtitle\": title,\n",
        "      \"cmlimit\": \"500\"\n",
        "  }\n",
        "\n",
        "  if(cmcontinue):\n",
        "    params[\"cmcontinue\"] = cmcontinue\n",
        "\n",
        "  response = requests.get(api_base, params)\n",
        "\n",
        "  return response.json()"
      ],
      "metadata": {
        "id": "_O17JLEBJ7pF"
      },
      "execution_count": 8,
      "outputs": []
    },
    {
      "cell_type": "code",
      "source": [
        "def get_all_category_members(title, depth=1):\n",
        "\n",
        "  page_urls = []\n",
        "\n",
        "  # check depth of category\n",
        "  if depth < 0:\n",
        "    return page_urls\n",
        "\n",
        "  category_members = get_category_members(title, cmcontinue=None)\n",
        "\n",
        "  while True:\n",
        "    for member in category_members[\"query\"][\"categorymembers\"]:\n",
        "      page_title = member[\"title\"].replace(\" \", \"_\")\n",
        "      page_url = f\"https://en.wikipedia.org/wiki/{page_title}\"\n",
        "\n",
        "      # check if each member is a page or has sub categories\n",
        "      if \"Category:\" in member[\"title\"]:\n",
        "        # fetch recursively\n",
        "        page_urls.extend(get_all_category_members(member[\"title\"], depth=depth))\n",
        "      else:\n",
        "        page_urls.append(page_url)\n",
        "\n",
        "      if 'continue' in category_members:\n",
        "        cmcontinue = category_members['continue']['cmcontinue']\n",
        "        print(cmcontinue)\n",
        "      else:\n",
        "        break\n",
        "\n",
        "    return page_urls"
      ],
      "metadata": {
        "id": "BqFCctItPO5p"
      },
      "execution_count": 14,
      "outputs": []
    },
    {
      "cell_type": "code",
      "source": [
        "url_bank = set()"
      ],
      "metadata": {
        "id": "tEqrObSlVJNP"
      },
      "execution_count": 15,
      "outputs": []
    },
    {
      "cell_type": "code",
      "source": [
        "category2depth = {\n",
        "    \"Category:Concepts_in_physics\": 3,\n",
        "    \"Category:Subfields of physics\": 2,\n",
        "    \"Category:Physical_systems\": 2,\n",
        "    \"Category:Physical modeling\": 1,\n",
        "}"
      ],
      "metadata": {
        "id": "ixYs6_IbVK2a"
      },
      "execution_count": 16,
      "outputs": []
    },
    {
      "cell_type": "code",
      "source": [
        "%%time\n",
        "url_list = []\n",
        "\n",
        "for cat, depth in category2depth.items():\n",
        "    print(f\"Getting URLs for {cat} with depth {depth}\")\n",
        "    urls = get_all_category_members(cat, depth=depth)\n",
        "    print(f\"# urls extracted = {len(urls)}\")\n",
        "    url_list.append(urls)"
      ],
      "metadata": {
        "colab": {
          "base_uri": "https://localhost:8080/"
        },
        "id": "4B-U0hbDWG4t",
        "outputId": "280bb71b-cd6b-4036-c857-ee56a293b9ac"
      },
      "execution_count": 17,
      "outputs": [
        {
          "output_type": "stream",
          "name": "stdout",
          "text": [
            "Getting URLs for Category:Concepts_in_physics with depth 3\n",
            "# urls extracted = 1\n",
            "Getting URLs for Category:Subfields of physics with depth 2\n",
            "# urls extracted = 1\n",
            "Getting URLs for Category:Physical_systems with depth 2\n",
            "# urls extracted = 1\n",
            "Getting URLs for Category:Physical modeling with depth 1\n",
            "# urls extracted = 1\n",
            "CPU times: user 229 ms, sys: 2.81 ms, total: 232 ms\n",
            "Wall time: 759 ms\n"
          ]
        }
      ]
    },
    {
      "cell_type": "code",
      "source": [],
      "metadata": {
        "id": "faKZqKYeWLkG"
      },
      "execution_count": null,
      "outputs": []
    }
  ]
}